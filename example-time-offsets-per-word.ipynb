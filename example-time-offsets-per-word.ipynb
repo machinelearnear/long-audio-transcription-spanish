{
 "cells": [
  {
   "cell_type": "code",
   "execution_count": 17,
   "id": "6d95b069-ed6b-443c-aa3b-107ed988e420",
   "metadata": {},
   "outputs": [],
   "source": [
    "# https://github.com/huggingface/transformers/issues/11307"
   ]
  },
  {
   "cell_type": "code",
   "execution_count": null,
   "id": "32afd3f6-e7f4-4df6-8f89-73066a103f86",
   "metadata": {},
   "outputs": [],
   "source": [
    "from itertools import groupby\n",
    "import torch\n",
    "from transformers import Wav2Vec2Processor, Wav2Vec2ForCTC\n",
    "import soundfile as sf\n",
    "\n",
    "##############\n",
    "# load model & audio and run audio through model\n",
    "##############\n",
    "model_name = 'facebook/wav2vec2-large-960h-lv60-self'\n",
    "processor = Wav2Vec2Processor.from_pretrained(model_name)\n",
    "model = Wav2Vec2ForCTC.from_pretrained(model_name).cuda()\n",
    "\n",
    "\n",
    "audio_filepath = ''\n",
    "speech, sample_rate = sf.read(audio_filepath)\n",
    "input_values = processor(speech, sampling_rate=sample_rate, return_tensors=\"pt\").input_values.cuda()\n",
    "\n",
    "with torch.no_grad():\n",
    "    logits = model(input_values).logits\n",
    "\n",
    "predicted_ids = torch.argmax(logits, dim=-1)\n",
    "transcription = processor.decode(predicted_ids[0]).lower()\n",
    "\n",
    "##############\n",
    "# this is where the logic starts to get the start and end timestamp for each word\n",
    "##############\n",
    "words = [w for w in transcription.split(' ') if len(w) > 0]\n",
    "predicted_ids = predicted_ids[0].tolist()\n",
    "duration_sec = input_values.shape[1] / sample_rate\n",
    "\n",
    "\n",
    "ids_w_time = [(i / len(predicted_ids) * duration_sec, _id) for i, _id in enumerate(predicted_ids)]\n",
    "# remove entries which are just \"padding\" (i.e. no characers are recognized)\n",
    "ids_w_time = [i for i in ids_w_time if i[1] != processor.tokenizer.pad_token_id]\n",
    "# now split the ids into groups of ids where each group represents a word\n",
    "split_ids_w_time = [list(group) for k, group\n",
    "                    in groupby(ids_w_time, lambda x: x[1] == processor.tokenizer.word_delimiter_token_id)\n",
    "                    if not k]\n",
    "\n",
    "assert len(split_ids_w_time) == len(words)  # make sure that there are the same number of id-groups as words. Otherwise something is wrong\n",
    "\n",
    "word_start_times = []\n",
    "word_end_times = []\n",
    "for cur_ids_w_time, cur_word in zip(split_ids_w_time, words):\n",
    "    _times = [_time for _time, _id in cur_ids_w_time]\n",
    "    word_start_times.append(min(_times))\n",
    "    word_end_times.append(max(_times))\n",
    "    \n",
    "words, word_start_times, word_end_times"
   ]
  }
 ],
 "metadata": {
  "kernelspec": {
   "display_name": "machinelearnear-long-audio-transcription:Python",
   "language": "python",
   "name": "conda-env-machinelearnear-long-audio-transcription-py"
  },
  "language_info": {
   "codemirror_mode": {
    "name": "ipython",
    "version": 3
   },
   "file_extension": ".py",
   "mimetype": "text/x-python",
   "name": "python",
   "nbconvert_exporter": "python",
   "pygments_lexer": "ipython3",
   "version": "3.9.12"
  }
 },
 "nbformat": 4,
 "nbformat_minor": 5
}
