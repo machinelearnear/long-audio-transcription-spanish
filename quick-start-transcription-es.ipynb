{
 "cells": [
  {
   "cell_type": "markdown",
   "id": "c68d323a-90d9-42ae-ab5b-c192225a68aa",
   "metadata": {},
   "source": [
    "# Long audio transcription in Spanish\n",
    "\n",
    "- [Making automatic speech recognition work on large files with Wav2Vec2 in 🤗 Transformers\n",
    "](https://huggingface.co/blog/asr-chunking)\n",
    "- [Boosting Wav2Vec2 with n-grams in 🤗 Transformers](https://huggingface.co/blog/wav2vec2-with-ngram)\n",
    "- https://huggingface.co/jonatasgrosman/wav2vec2-xls-r-1b-spanish\n",
    "- https://huggingface.co/jonatasgrosman/wav2vec2-large-xlsr-53-spanish"
   ]
  },
  {
   "cell_type": "markdown",
   "id": "62d440e8-da45-416f-b48c-3a30cfaaf0af",
   "metadata": {
    "tags": []
   },
   "source": [
    "## Download audio from YouTube video"
   ]
  },
  {
   "cell_type": "code",
   "execution_count": 1,
   "id": "3d4a2cf9-c346-4140-b047-a8dd692ee142",
   "metadata": {},
   "outputs": [],
   "source": [
    "YouTubeID = 'ns42RRd9BIg'\n",
    "OutputFile = 'audio_from_youtube.mp3'"
   ]
  },
  {
   "cell_type": "code",
   "execution_count": 2,
   "id": "4fc266a4-bea1-4f67-8ffe-7e3ba1d3fee7",
   "metadata": {},
   "outputs": [],
   "source": [
    "# !youtube-dl -o $OutputFile $YouTubeID --restrict-filenames --extract-audio --audio-format mp3 "
   ]
  },
  {
   "cell_type": "markdown",
   "id": "adee2f55-9df3-4f2a-b3ec-d9bbc79461ba",
   "metadata": {},
   "source": [
    "## ASR through Huggingsound"
   ]
  },
  {
   "cell_type": "code",
   "execution_count": 3,
   "id": "0ea9ab60-dc02-4b73-b7e8-4a3a131b7bab",
   "metadata": {},
   "outputs": [],
   "source": [
    "# !pip install huggingsound"
   ]
  },
  {
   "cell_type": "code",
   "execution_count": 4,
   "id": "a0b724b2-9483-49c3-b3a1-bfd9d4aab201",
   "metadata": {},
   "outputs": [],
   "source": [
    "# from huggingsound import SpeechRecognitionModel"
   ]
  },
  {
   "cell_type": "code",
   "execution_count": 5,
   "id": "eb6be4f4-71fe-4b65-bb70-3975d8ebee28",
   "metadata": {},
   "outputs": [],
   "source": [
    "# model = SpeechRecognitionModel(\"jonatasgrosman/wav2vec2-xls-r-1b-spanish\")"
   ]
  },
  {
   "cell_type": "code",
   "execution_count": 6,
   "id": "6965195b-6930-4b0a-a3ae-1774ea348be3",
   "metadata": {},
   "outputs": [],
   "source": [
    "# transcriptions = model.transcribe([OutputFile])"
   ]
  },
  {
   "cell_type": "markdown",
   "id": "729b7470-434f-45a0-97e5-61b8fd8d9864",
   "metadata": {},
   "source": [
    "## ASR using Pipelines"
   ]
  },
  {
   "cell_type": "code",
   "execution_count": 7,
   "id": "94b78be3-2725-477c-9dbd-0d9cb5279f70",
   "metadata": {},
   "outputs": [],
   "source": [
    "# !pip install pyctcdecode"
   ]
  },
  {
   "cell_type": "code",
   "execution_count": 8,
   "id": "acbe5576-0e8e-4a7e-8600-69573ae45364",
   "metadata": {},
   "outputs": [],
   "source": [
    "# !pip install https://github.com/kpu/kenlm/archive/master.zip"
   ]
  },
  {
   "cell_type": "code",
   "execution_count": 9,
   "id": "ec4b439f-69ec-4a6c-95d2-7e0cc86284fc",
   "metadata": {},
   "outputs": [],
   "source": [
    "from transformers import pipeline"
   ]
  },
  {
   "cell_type": "code",
   "execution_count": 10,
   "id": "73f6372d-b8bb-43c9-866d-47e7bdfdb3b8",
   "metadata": {},
   "outputs": [
    {
     "data": {
      "application/vnd.jupyter.widget-view+json": {
       "model_id": "7b3cd30f61104179abe49053193d3573",
       "version_major": 2,
       "version_minor": 0
      },
      "text/plain": [
       "Downloading:   0%|          | 0.00/3.90k [00:00<?, ?B/s]"
      ]
     },
     "metadata": {},
     "output_type": "display_data"
    },
    {
     "data": {
      "application/vnd.jupyter.widget-view+json": {
       "model_id": "b8aad756fa174db8aa7f88d6a74471f5",
       "version_major": 2,
       "version_minor": 0
      },
      "text/plain": [
       "Downloading:   0%|          | 0.00/1.99k [00:00<?, ?B/s]"
      ]
     },
     "metadata": {},
     "output_type": "display_data"
    },
    {
     "data": {
      "application/vnd.jupyter.widget-view+json": {
       "model_id": "b2a865b5546d4ff098b00ddc3a01f117",
       "version_major": 2,
       "version_minor": 0
      },
      "text/plain": [
       "Downloading:   0%|          | 0.00/3.59G [00:00<?, ?B/s]"
      ]
     },
     "metadata": {},
     "output_type": "display_data"
    },
    {
     "data": {
      "application/vnd.jupyter.widget-view+json": {
       "model_id": "e199f582f9704283bb4f1d15a9c192ba",
       "version_major": 2,
       "version_minor": 0
      },
      "text/plain": [
       "Downloading:   0%|          | 0.00/314 [00:00<?, ?B/s]"
      ]
     },
     "metadata": {},
     "output_type": "display_data"
    },
    {
     "data": {
      "application/vnd.jupyter.widget-view+json": {
       "model_id": "b2997c4b32b1489b86015dab22dca09b",
       "version_major": 2,
       "version_minor": 0
      },
      "text/plain": [
       "Downloading:   0%|          | 0.00/370 [00:00<?, ?B/s]"
      ]
     },
     "metadata": {},
     "output_type": "display_data"
    },
    {
     "data": {
      "application/vnd.jupyter.widget-view+json": {
       "model_id": "aa76d823eb7546748f199cf8e158cbb2",
       "version_major": 2,
       "version_minor": 0
      },
      "text/plain": [
       "Downloading:   0%|          | 0.00/85.0 [00:00<?, ?B/s]"
      ]
     },
     "metadata": {},
     "output_type": "display_data"
    },
    {
     "data": {
      "application/vnd.jupyter.widget-view+json": {
       "model_id": "b4506de5bc0b432ab4e46f57047cb4c8",
       "version_major": 2,
       "version_minor": 0
      },
      "text/plain": [
       "Downloading:   0%|          | 0.00/260 [00:00<?, ?B/s]"
      ]
     },
     "metadata": {},
     "output_type": "display_data"
    },
    {
     "data": {
      "application/vnd.jupyter.widget-view+json": {
       "model_id": "40003253b30c4b73bc976e76c2342f23",
       "version_major": 2,
       "version_minor": 0
      },
      "text/plain": [
       "Downloading:   0%|          | 0.00/273 [00:00<?, ?B/s]"
      ]
     },
     "metadata": {},
     "output_type": "display_data"
    },
    {
     "data": {
      "application/vnd.jupyter.widget-view+json": {
       "model_id": "9f440d58d5a04ae7930446e2d47ce704",
       "version_major": 2,
       "version_minor": 0
      },
      "text/plain": [
       "Downloading:   0%|          | 0.00/78.0 [00:00<?, ?B/s]"
      ]
     },
     "metadata": {},
     "output_type": "display_data"
    },
    {
     "data": {
      "application/vnd.jupyter.widget-view+json": {
       "model_id": "bfeab5fbfe75415a843283cdef41dbaf",
       "version_major": 2,
       "version_minor": 0
      },
      "text/plain": [
       "Downloading:   0%|          | 0.00/1.20G [00:00<?, ?B/s]"
      ]
     },
     "metadata": {},
     "output_type": "display_data"
    },
    {
     "data": {
      "application/vnd.jupyter.widget-view+json": {
       "model_id": "b31ad233c47c436bb323d1cb9267e420",
       "version_major": 2,
       "version_minor": 0
      },
      "text/plain": [
       "Downloading:   0%|          | 0.00/9.34M [00:00<?, ?B/s]"
      ]
     },
     "metadata": {},
     "output_type": "display_data"
    }
   ],
   "source": [
    "# This will work on any of the thousands of models at\n",
    "# https://huggingface.co/models?pipeline_tag=automatic-speech-recognition\n",
    "pipe = pipeline(model=\"jonatasgrosman/wav2vec2-xls-r-1b-spanish\")"
   ]
  },
  {
   "cell_type": "code",
   "execution_count": 11,
   "id": "6de513bb-d068-401e-8e29-113619a03e07",
   "metadata": {},
   "outputs": [],
   "source": [
    "# pipe(OutputFile, chunk_length_s=10)\n",
    "# This works and prints a very long string!"
   ]
  },
  {
   "cell_type": "code",
   "execution_count": 12,
   "id": "55ffbf69-0025-489a-bdfe-9de1a49f1fa2",
   "metadata": {},
   "outputs": [],
   "source": [
    "output = pipe(OutputFile, chunk_length_s=10, stride_length_s=(4,2))"
   ]
  },
  {
   "cell_type": "code",
   "execution_count": 13,
   "id": "8287fbd2-fba7-4f2b-8702-0b1c95ae25fb",
   "metadata": {},
   "outputs": [
    {
     "name": "stdout",
     "output_type": "stream",
     "text": [
      "{'text': 'soy maría esperanza catuña soy andrés malamud y esto es agora un podcast de conversación política de el diari a buen día andrés cómo estás o lamecfestijando qué estamos festejando hoy la democracia no cómo lo vemos a lo mejor tenemos una oportunidad para pelearnos hoy bueno a la democracia yo la veo bien vos como la vez lo que me interesa es pensar qué cosas logramos y qué cosas sin embargo parecen ser un límite si puedo citar a raúl alfonsín con la democracia se come con la democracia se educa o sea con la democracia seremos un montón de cosas buenas pero hay ciertas cosas que no parece que logramos poder hacer buen punto de comienzo si tengo que sintetizarlos diría que la democracia evita que nos matemos pero no garantiza que vivamos bien y esto lo que tenemos después de cuánto vamos años años en que dejamos de matarnos por razones políticas y no solamente esto quiero ir un poco más allá porque la sociedad argentina sigue siendo una de las menos violentas de la región así que la pacificación en argentina de pues de cincuenta y tres años de péndulo cívico militar no es solamente política es también social aunque haya un nivel de asalto superior a la media ayune de asesinatos inferior a la media de américa latina tan ejos de ser el paraíso pero tan lejos también de ser colombia méxico o brasil donde vivir es mucho más complicado pero curtice pobres sede pobreza infantil eso es inaceptable es culpa de la democracia pues a pesar de la democracia huy qué pregunta qué pregunta yo no creo personalmente que sea culpa de la democracia pero evidentemente la democracia no ha podido generar los acuerdos las instituciones o tamién los conflictos no tal cual me acuerdo una frase de marcelo camarotes que decía que la democracia argentina después del oyen muchos aspectos tenía demasiado poco conflicto en qué sentido lo digo en el sentido en que temas redistributivas temas de política económica temas por ejemplo referidos al sitema impositivo fiscal no son habituales en el congreso de manera abierta de manera que permita discutir estos temas sino que se dan por ahí en otras instancias en la calle en salones en donde negocian personas están que no lo hacen en un ámbito público yo veo argentina como un típico dilema del prisionero el problema de la hiperracionalidad individual donde cada sector persiguiendo sus intereses particulares judite teoría los juegos así esto se resuelve con monitoreo y con reiteración es decir cada uno sabe lo que está haciendo los demás tiene información y además sabe que va a seguir jugando con el otro que tradiciones que si lo jorobas ahora te van a jorobar en la próxima jugada si hay una sola jugada la estrategia dominante es jorobar al otro porque es suma cero lo que ganás vos porque lo pierde el otro y viceversa si vos te eja ganar no tenés salida estamos resolviendo esto lo interesante es que hay un sistema en argentina que toma decisiones y a veces por consenso por ejemplo ley de góndolas por ejemplo la ley de zona fría o la ley de alquileres hay grandes decisiones que se toman por consenso y ese consenso es digamos destructivo es tóxico esa decisión el contenido de estas decisiones por onsensoson negativas para las partes y para el todo tenían perjudicado todos los demás esto es lo loquesorprende no tanto que falten los acuerdos sino que sus acuerdos sean destructivos tenemos una gran capacidad para ponernos de acuerdo en hacernos mal sí y al mismo tiempo hay temas que nunca se pueden poner en discusión no o sea ley de coparticipación la coparticipación tuv un momento en el cual se puso en la agenda pública en la reforma constitucional después es un tema intocable temas que tienen que ver con esto pensando propiedad de la tierra estoy pensando mayores impuestos lo que se paga en argentina de impuestos a la tierra es bajísimo hay temas que tienen que ver con lo económico que están imposibilitados de ser descuido me parece y sorprendentemente hay un gran acuerdo que pende sobre ellos que es la constitución nacional en la constitución nacional dice que la coparticipación había que rediscutirla hasta hace un cuarto de siglo que venimos incumpliendo la constitución lo mismo con la forma e elegir diputados hace cuentanos que elegimos diputados con ley de la dictadura y censo de o el juicio por jurados o la distribución de la propiedad para los trabajadores a constitución tiene todo lo virionhace un siglo no estoy dicenque irigoyen haya hecho un gran gobierno normal gobierno sino que cuando decía que su programa era la constitución nacional es porque sabía que ahí había un acuerdo que había que implementar un siglo después seguimos teniendo el acuerdo no implementado la otra cuestión es que realmente me parece que hay un problema en argentina de actores sociales y económicos y que tampoco está claro cómo se relacionan con el sistema político o sea si pensamos en raul alfonsín tenemos que pensar en los extraordinarios logros políticos de su gobierno y en la crisis económica tremenda en el cual su gobierno terminó sea eso fue una frustración muy importante el tema es que en argentina y sectores económicos que ganan en las crisis o sea la crisis es un mecanismo de acumulación económica y también política sea una manera de no lo estoy diciendo que sea una cuestión conspirativa simplemente es ua cuestión objetiva que de cada una de las crisis en las cuales ha tenido cíclicas cada años que ha tenido la democracia argentina hay sectores que ganan durante la estabilidad y ganan durante la crisis porque pueden sacar dolares fuera porque pueden condicionar a los nuevos gobiernos que es lo que pasó en el también entonces es muy difícil evitar las crisis cuando para actores poderosos concentrados esas crisis no son necesaria mene algo malo sino que son otro mecanismo de toma de gananias estoy de acuerdo pero te voy a decir algo antipático la famosa discusión entre alfonsín y baldini cuando alfonsín le decía si usted espían aumento salarial va a aumentar la inflación y ubaldini le decía sí pero el momento salarial me lo van a agradecer a mí y la inflación va a ser culpa de usted los sectores que se benefician de las crisis son muchos y algunos de ellos a veces recen predadores pero sebastián chamanes tudio esto en la compensación a los perdedores el gran ajuste menemista fue a costo de los que salieron del mercado laboral formal porque a los sindicatos los protegieron y mucho con las obras sociales onganía los también protegió a los sindicatos que no estoy diciendo que lo sindicatos estén al mismo nivel de la patria financiera lo que tociendo es que son muchos los sectores que obtienen un pequeño beneficio y por ejemplo esto va más allá de las crisis que tenemos en argentina que está destruyendo la fiscalidad los subsidios a la energía la de tarifas baratas estos subsidios por supuesto que benefician a los pobres pero son subsidios pro rico y esto lo dijo martín guzmán no el cheque para pro rico significa que la mayor masa de sus sitios va para los que pueden pagar una tarifa como la que corresponde el costo del servicio sí que está lleno de sectores que se benefician los pobres se benefician por los subsidios y los ricos también todos tratan de sacar provecho de nuevo es un dilema de hiperracionalidad individual porque acá no hay perdedores obvios si ubiera perdedores obvios harían la revolución acá los frágiles también se benefician un poquito de este desastre que argentina de nuevo desastre económico porque ay que rescatar que hace treinta ocho años que no nos matamos nos morimos de ambos estoy exagerando que hay otro que tampereen américa latina pero es un país pacífico y la pregunta que viene es hasta cuando puede dubraresto con economía qe no recupera sí bueno esa es una pregunta sin embargo la verdad y hay elementos que no pueden decir que son rugosos ha aparecido discursos de una derecha mucho más radical e lo que pasó antes hace poco circularon unas fotos de uno de los podemos decir referentes mediáticos de esta especie de derecha que le visten libertaria aunque yo no creo que lo sea por primera vez posando con un arma como es la derecha esto es algo que nunca existió en la cultura política de argentina de los para acá se la eivindicación pública de las armas un tema puntual pero es un tema que era un consenso que ahora parece estar rompiéndose patrica bulrich dijo también que quería hace unos años que los ciudadanos podían estar armados eso es algo bastante novedoso sin embargo también es cierto que en los últimos años si uno ve a las reacciones de la sociedad siguen apareciendo me parece a mí una sociedad que tiene ciertos consensos o que tiene ciertos principios en función de la paz no no me queda tan claro que esas conductas por lo menos hoy están premiadas necesariamente políticamente estoy de acuerdo si vos miras los consensos básicos de la sociedad el nocimientos son super sanos son súper saludables la sociedad argentina es anti arma y pro vacuna esto en términos comparados con otros países asimilables a argentina parangonable y esto no parece estar cambiando al contrario y destaco mira no a los que andan con armas sino a los liberalotes que entraron ahora en el congreso y en la legislatura y son todos perros chicos las elecciones tan todos pidiendo escupideras impresionantes no me saludaron me dieron la espalda pido disculpas si ofendí a alguien aunque sí o no disculpa incompleta por lo menos hay verguenza verguenza por lo que hicieron por lo que dijeron antes cuando pensaban que no los estaban viendo cuando hablaban solamente para la clac por lo tipo que los aplaudían la democracia argentina sigue siendo súper suavisador súper suavisador lo que no es es alimentadora bueno tal vez haya que conversar con los y las colegas economistas y los politólogos pusimos un montón de cosas reflexiones sobre la mesa en estos años y más o menos podemos decir algunas cosas se construyera la verdad es que a mí a veces me llama la atención que haya tanto desconcierto acerca de qué es lo que tiene que hacer argentina económicamente y empezare terminar con una nota de recuerdo al discurso de esteban bullrich porque me parece importante lo que él destacó sobre los acuerdos que hacen falta quizás en contraposición a los acuerdos que conseguimos los pequeñitos acuerdos que conseguimos que son tóxicos esto que referírtelo grands acuerdos están bien la sociedad argentina e democráticas sintiara es provoque los pequeños acuerdos están mal son de reparto de quintas este gamburricho se puso por encima y tenía con qué y esto lo recibieron bien de uno veía a las redes twitter o conoces no se podía creer en algunos casos los elogios que había de los dos lados y esto fue un momento de tranquilidad que nos permitió pensar si no podríamos recuperarnos con más frecuencia no sé qu impacto te hizo a vos en ese discurso me parece que es la manera más constructiva e aprovecha una desgracia sino sin duda eso fue una imagen muy movilizadora lo que sucedió en el senado esperemos que eta se continúe o que no sea un paréntesis que no sea un par de semanas y que después se devuelva a una situación de deslegitimación del adversario déjame soñar bueno pero bueno terminemos la verdad es que este es un yo creo que cada generación queda muy marcada por el recorrido que hizo cuando entró a la política no necesariamente la militancia cuando se dio cuenta de que había algo así como la política y sin duda el fue el evento que marcó nuestro ingreso a la política yo tenía años mi viejo me llevó a los actos de cierre del obviamente vimos mis viejo no votaron alfonsín votaron el ende pero muy emocionados viendo el cierre de campaña muy emocionados viéndola todo todo el combo fue el progre no desde la música la estética a juicio a las juntas ojalá para los años el dice diciembre de la democracia además de paz traiga desarrollo por lo menos hay consciencia de que hasta ahora no lo trajo y el diagnóstico es el principio de la solución bueno nos vemos dentro de días andrés te mando un beso beso chau'}\n"
     ]
    }
   ],
   "source": [
    "print(output)"
   ]
  }
 ],
 "metadata": {
  "kernelspec": {
   "display_name": "machinelearnear-long-audio-transcription-es:Python",
   "language": "python",
   "name": "conda-env-machinelearnear-long-audio-transcription-es-py"
  },
  "language_info": {
   "codemirror_mode": {
    "name": "ipython",
    "version": 3
   },
   "file_extension": ".py",
   "mimetype": "text/x-python",
   "name": "python",
   "nbconvert_exporter": "python",
   "pygments_lexer": "ipython3",
   "version": "3.9.10"
  }
 },
 "nbformat": 4,
 "nbformat_minor": 5
}
